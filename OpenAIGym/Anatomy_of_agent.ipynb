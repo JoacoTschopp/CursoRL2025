{
  "nbformat": 4,
  "nbformat_minor": 0,
  "metadata": {
    "colab": {
      "provenance": [],
      "authorship_tag": "ABX9TyNcs3cfvaIUZ12TcfjUGjGr",
      "include_colab_link": true
    },
    "kernelspec": {
      "name": "python3",
      "display_name": "Python 3"
    },
    "language_info": {
      "name": "python"
    }
  },
  "cells": [
    {
      "cell_type": "markdown",
      "metadata": {
        "id": "view-in-github",
        "colab_type": "text"
      },
      "source": [
        "<a href=\"https://colab.research.google.com/github/ccaiafa/CursoRL/blob/master/OpenAIGym/Anatomy_of_agent.ipynb\" target=\"_parent\"><img src=\"https://colab.research.google.com/assets/colab-badge.svg\" alt=\"Open In Colab\"/></a>"
      ]
    },
    {
      "cell_type": "code",
      "execution_count": null,
      "metadata": {
        "id": "inat8amKAg54"
      },
      "outputs": [],
      "source": []
    },
    {
      "cell_type": "markdown",
      "source": [
        "**OpenAI Gym**\n",
        "This notebook includes:\n",
        "- High-level description of the requirements to plug the agent into the RL framework\n",
        "- A basic, pure-Python implementation of a random RL agent"
      ],
      "metadata": {
        "id": "76tfA-bMAk9i"
      }
    },
    {
      "cell_type": "markdown",
      "source": [
        "Toy example (not very useful indeed): Define an environment that will give the agent random rewards for a limited number of steps, regardless of the agent's actions.\n"
      ],
      "metadata": {
        "id": "yYSKtwZbBGVF"
      }
    },
    {
      "cell_type": "code",
      "source": [
        "import random\n",
        "from typing import List"
      ],
      "metadata": {
        "id": "vYMT3L0GCPcF"
      },
      "execution_count": 2,
      "outputs": []
    },
    {
      "cell_type": "code",
      "source": [
        "class Environment:\n",
        "  def __init__(self):\n",
        "    self.steps_left = 10  # Initialize number of steps\n",
        "\n",
        "  def get_observation(self) -> List[float]:\n",
        "      return [0.0, 0.0, 0.0] # observation is always zero since agent take random actions regardless the state\n",
        "\n",
        "  def get_actions(self) -> List[int]:\n",
        "      return [0, 1]  # Two possible actions (no action, action)\n",
        "\n",
        "  def is_done(self) -> bool:\n",
        "      return self.steps_left == 0   # Check if process finished\n",
        "\n",
        "  def action(self, action: int) -> float:\n",
        "      if self.is_done():\n",
        "          raise Exception(\"Game is over\")\n",
        "      self.steps_left -= 1\n",
        "      return random.random() # return random number between 0 and 1"
      ],
      "metadata": {
        "id": "AfJheDR1Bb8t"
      },
      "execution_count": 1,
      "outputs": []
    },
    {
      "cell_type": "code",
      "source": [],
      "metadata": {
        "colab": {
          "base_uri": "https://localhost:8080/"
        },
        "id": "jMRcZIhKB3wU",
        "outputId": "7933d870-83fd-4510-819e-be336f9c112d"
      },
      "execution_count": 3,
      "outputs": [
        {
          "output_type": "execute_result",
          "data": {
            "text/plain": [
              "0.6836564199775804"
            ]
          },
          "metadata": {},
          "execution_count": 3
        }
      ]
    }
  ]
}