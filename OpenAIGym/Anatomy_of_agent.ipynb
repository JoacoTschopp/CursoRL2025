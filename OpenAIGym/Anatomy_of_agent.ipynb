{
  "nbformat": 4,
  "nbformat_minor": 0,
  "metadata": {
    "colab": {
      "provenance": [],
      "authorship_tag": "ABX9TyPxK2y3A/2CEud3zAeMTneW",
      "include_colab_link": true
    },
    "kernelspec": {
      "name": "python3",
      "display_name": "Python 3"
    },
    "language_info": {
      "name": "python"
    }
  },
  "cells": [
    {
      "cell_type": "markdown",
      "metadata": {
        "id": "view-in-github",
        "colab_type": "text"
      },
      "source": [
        "<a href=\"https://colab.research.google.com/github/ccaiafa/CursoRL/blob/master/OpenAIGym/Anatomy_of_agent.ipynb\" target=\"_parent\"><img src=\"https://colab.research.google.com/assets/colab-badge.svg\" alt=\"Open In Colab\"/></a>"
      ]
    },
    {
      "cell_type": "markdown",
      "source": [
        "**OpenAI Gym**\n",
        "\n",
        "This notebook includes:\n",
        "- High-level description of the requirements to plug the agent into the RL framework\n",
        "- A basic, pure-Python implementation of a random RL agent"
      ],
      "metadata": {
        "id": "76tfA-bMAk9i"
      }
    },
    {
      "cell_type": "markdown",
      "source": [
        "Toy example (not very useful indeed): Define an environment that will give the agent random rewards for a limited number of steps, regardless of the agent's actions.\n",
        "\n",
        "Lets define the environment class first.\n"
      ],
      "metadata": {
        "id": "yYSKtwZbBGVF"
      }
    },
    {
      "cell_type": "code",
      "source": [
        "import random\n",
        "from typing import List"
      ],
      "metadata": {
        "id": "vYMT3L0GCPcF"
      },
      "execution_count": 4,
      "outputs": []
    },
    {
      "cell_type": "code",
      "source": [
        "class Environment:\n",
        "  def __init__(self):\n",
        "    self.steps_left = 10  # Initialize number of steps\n",
        "\n",
        "  def get_observation(self) -> List[float]:\n",
        "      return [0.0, 0.0, 0.0] # observation is always zero since agent take random actions regardless the state\n",
        "\n",
        "  def get_actions(self) -> List[int]:\n",
        "      return [0, 1]  # Two possible actions (no action, action)\n",
        "\n",
        "  def is_done(self) -> bool:\n",
        "      return self.steps_left == 0   # Check if process finished\n",
        "\n",
        "  def action(self, action: int) -> float:\n",
        "      if self.is_done():\n",
        "          raise Exception(\"Game is over\")\n",
        "      self.steps_left -= 1\n",
        "      return random.random() # return random number between 0 and 1"
      ],
      "metadata": {
        "id": "AfJheDR1Bb8t"
      },
      "execution_count": 5,
      "outputs": []
    },
    {
      "cell_type": "markdown",
      "source": [
        "Lets define the Agent class now:"
      ],
      "metadata": {
        "id": "x5xfp0BDHfs5"
      }
    },
    {
      "cell_type": "code",
      "source": [
        "class Agent:\n",
        "    def __init__(self):\n",
        "        self.total_reward = 0.0 # Initialize total reward\n",
        "\n",
        "    def step(self, env: Environment):  # define evolution of the system step by step\n",
        "        current_obs = env.get_observation() # Observe the environment\n",
        "        actions = env.get_actions() # Make a decision based on the observations\n",
        "        reward = env.action(random.choice(actions)) # Submit an action to the environment\n",
        "        self.total_reward += reward # Get the reward for the current step"
      ],
      "metadata": {
        "id": "BZU50yNPHtc2"
      },
      "execution_count": 6,
      "outputs": []
    },
    {
      "cell_type": "markdown",
      "source": [
        "Now, we can run one episode:"
      ],
      "metadata": {
        "id": "rwbwNmk2IuZw"
      }
    },
    {
      "cell_type": "code",
      "source": [
        "if __name__ == \"__main__\":\n",
        "    env = Environment()\n",
        "    agent = Agent()\n",
        "\n",
        "    while not env.is_done():\n",
        "        agent.step(env)\n",
        "\n",
        "    print(\"Total reward got: %.4f\" % agent.total_reward)"
      ],
      "metadata": {
        "colab": {
          "base_uri": "https://localhost:8080/"
        },
        "id": "l1euI7RBI0LR",
        "outputId": "16035c0c-1832-451b-f3b3-30df27eadf18"
      },
      "execution_count": 10,
      "outputs": [
        {
          "output_type": "stream",
          "name": "stdout",
          "text": [
            "Total reward got: 7.5460\n"
          ]
        }
      ]
    }
  ]
}