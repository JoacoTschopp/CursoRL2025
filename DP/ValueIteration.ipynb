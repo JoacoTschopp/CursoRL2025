{
 "cells": [
  {
   "cell_type": "markdown",
   "metadata": {
    "id": "76tfA-bMAk9i"
   },
   "source": [
    "**Dynamic Programming: Value Iteration**\n",
    "\n",
    "In this notebook, we implement the value iteration algorithm for the Gambler's Problem (Sutton&Barto book, Example 4.3) [adapted from Shangtong Zhang repository]"
   ]
  },
  {
   "cell_type": "code",
   "execution_count": 3,
   "metadata": {
    "executionInfo": {
     "elapsed": 319,
     "status": "ok",
     "timestamp": 1716400243307,
     "user": {
      "displayName": "Cesar Caiafa",
      "userId": "07160910981834058368"
     },
     "user_tz": 180
    },
    "id": "l79GNCq0HjaP"
   },
   "outputs": [],
   "source": [
    "import numpy as np\n",
    "import matplotlib\n",
    "%matplotlib inline\n",
    "import matplotlib.pyplot as plt"
   ]
  },
  {
   "cell_type": "markdown",
   "metadata": {
    "id": "GGl2HVXbHYzn"
   },
   "source": [
    "Define the model"
   ]
  },
  {
   "cell_type": "code",
   "execution_count": 8,
   "metadata": {
    "executionInfo": {
     "elapsed": 292,
     "status": "ok",
     "timestamp": 1716400245716,
     "user": {
      "displayName": "Cesar Caiafa",
      "userId": "07160910981834058368"
     },
     "user_tz": 180
    },
    "id": "LDeviPzjHfa4"
   },
   "outputs": [],
   "source": [
    "GOAL = 100 # goal\n",
    "STATES = np.arange(GOAL + 1) # all states, including state 0 and state 100\n",
    "HEAD_PROB = 0.55 # probability of head\n",
    "\n",
    "# state value\n",
    "state_value = np.zeros(GOAL + 1)\n",
    "state_value[GOAL] = 1.0\n",
    "\n",
    "iteration = 0"
   ]
  },
  {
   "cell_type": "markdown",
   "metadata": {
    "id": "pQu03gHCYkkF"
   },
   "source": [
    "Value Iteration"
   ]
  },
  {
   "cell_type": "code",
   "execution_count": 9,
   "metadata": {
    "colab": {
     "base_uri": "https://localhost:8080/"
    },
    "collapsed": true,
    "executionInfo": {
     "elapsed": 312,
     "status": "ok",
     "timestamp": 1716400307262,
     "user": {
      "displayName": "Cesar Caiafa",
      "userId": "07160910981834058368"
     },
     "user_tz": 180
    },
    "id": "2qa4DieVhH90",
    "outputId": "4e829721-9f90-4a79-bd46-f0e2ce08ddf2"
   },
   "outputs": [
    {
     "name": "stdout",
     "output_type": "stream",
     "text": [
      "Value iteration, Iter 0\n"
     ]
    }
   ],
   "source": [
    "niter = 32\n",
    "print('Value iteration, Iter %d' % (iteration))\n",
    "while True:\n",
    "    iteration += 1\n",
    "    delta = 0.0\n",
    "    for state in STATES[1:GOAL]:\n",
    "        # get possilbe actions for current state\n",
    "        actions = np.arange(min(state, GOAL - state) + 1)\n",
    "        action_returns = []\n",
    "        for action in actions:\n",
    "            action_returns.append(\n",
    "                HEAD_PROB * state_value[state + action] + (1 - HEAD_PROB) * state_value[state - action])\n",
    "        new_value = np.max(action_returns)\n",
    "        delta += np.abs(state_value[state] - new_value)\n",
    "        # update state value\n",
    "        state_value[state] = new_value\n",
    "    if iteration == niter or delta < 1e-9:\n",
    "        break"
   ]
  },
  {
   "cell_type": "markdown",
   "metadata": {
    "id": "gJXeronaLBgR"
   },
   "source": [
    "Compute the Optimal Policy\n"
   ]
  },
  {
   "cell_type": "code",
   "execution_count": 10,
   "metadata": {
    "colab": {
     "base_uri": "https://localhost:8080/"
    },
    "executionInfo": {
     "elapsed": 298,
     "status": "ok",
     "timestamp": 1716400309806,
     "user": {
      "displayName": "Cesar Caiafa",
      "userId": "07160910981834058368"
     },
     "user_tz": 180
    },
    "id": "8zCuNiLWatR4",
    "outputId": "f3e2c8a2-950e-4250-b7a9-dff6d02e043d"
   },
   "outputs": [
    {
     "name": "stdout",
     "output_type": "stream",
     "text": [
      "Compute Optimal Policy, Niter 32\n"
     ]
    }
   ],
   "source": [
    "print('Compute Optimal Policy, Niter %d' % (niter))\n",
    "policy = np.zeros(GOAL + 1)\n",
    "for state in STATES[1:GOAL]:\n",
    "    actions = np.arange(min(state, GOAL - state) + 1)\n",
    "    action_returns = []\n",
    "    for action in actions:\n",
    "        action_returns.append(\n",
    "            HEAD_PROB * state_value[state + action] + (1 - HEAD_PROB) * state_value[state - action])\n",
    "\n",
    "    policy[state] = actions[np.argmax(np.round(action_returns[1:], 5)) + 1]"
   ]
  },
  {
   "cell_type": "markdown",
   "metadata": {
    "id": "h4BYwrQwdQe6"
   },
   "source": [
    "Display current policy and value of states"
   ]
  },
  {
   "cell_type": "code",
   "execution_count": 11,
   "metadata": {
    "colab": {
     "base_uri": "https://localhost:8080/",
     "height": 483
    },
    "executionInfo": {
     "elapsed": 951,
     "status": "ok",
     "timestamp": 1716400313600,
     "user": {
      "displayName": "Cesar Caiafa",
      "userId": "07160910981834058368"
     },
     "user_tz": 180
    },
    "id": "aCkR1CYsdStY",
    "outputId": "b066d8b2-104a-4a47-8b62-4591c684c3d8"
   },
   "outputs": [
    {
     "data": {
      "text/plain": [
       "Text(0, 0.5, 'Final policy (stake)')"
      ]
     },
     "execution_count": 11,
     "metadata": {},
     "output_type": "execute_result"
    },
    {
     "data": {
      "image/png": "[encoded data removed]",
      "text/plain": [
       "<Figure size 1000x500 with 2 Axes>"
      ]
     },
     "metadata": {},
     "output_type": "display_data"
    }
   ],
   "source": [
    "_, axes = plt.subplots(1, 2, figsize=(10, 5))\n",
    "plt.subplots_adjust(wspace=0.2, hspace=0.2)\n",
    "axes = axes.flatten()\n",
    "\n",
    "# Plot Values\n",
    "plt.subplot(1, 2, 1)\n",
    "plt.plot(state_value)\n",
    "plt.xlabel('Capital')\n",
    "plt.ylabel('Value estimates')\n",
    "\n",
    "# Plot Policy\n",
    "plt.subplot(1, 2, 2)\n",
    "plt.scatter(STATES, policy)\n",
    "plt.xlabel('Capital')\n",
    "plt.ylabel('Final policy (stake)')\n",
    "\n",
    "\n"
   ]
  },
  {
   "cell_type": "code",
   "execution_count": null,
   "metadata": {
    "id": "c9QLHk0gadhW"
   },
   "outputs": [],
   "source": []
  }
 ],
 "metadata": {
  "colab": {
   "authorship_tag": "ABX9TyN9/7t04CQpI9Xr52HrshZr",
   "provenance": []
  },
  "kernelspec": {
   "display_name": ".venv",
   "language": "python",
   "name": "python3"
  },
  "language_info": {
   "codemirror_mode": {
    "name": "ipython",
    "version": 3
   },
   "file_extension": ".py",
   "mimetype": "text/x-python",
   "name": "python",
   "nbconvert_exporter": "python",
   "pygments_lexer": "ipython3",
   "version": "3.13.7"
  }
 },
 "nbformat": 4,
 "nbformat_minor": 0
}
