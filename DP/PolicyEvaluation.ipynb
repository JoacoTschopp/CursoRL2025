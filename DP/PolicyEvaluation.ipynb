{
 "cells": [
  {
   "cell_type": "markdown",
   "metadata": {
    "id": "76tfA-bMAk9i"
   },
   "source": [
    "**Dynamic Programming: Iterative Policy Evaluation**\n",
    "\n",
    "In this notebook, we implement the iterative policy evaluation for a 4x4 grid world with equiprobable random actions (Sutton&Barto book, Example 4.1) [adapted from Shangtong Zhang repository]"
   ]
  },
  {
   "cell_type": "code",
   "execution_count": 1,
   "metadata": {
    "id": "l79GNCq0HjaP"
   },
   "outputs": [],
   "source": [
    "import numpy as np\n",
    "import matplotlib\n",
    "%matplotlib inline\n",
    "import matplotlib.pyplot as plt\n",
    "from matplotlib.table import Table"
   ]
  },
  {
   "cell_type": "markdown",
   "metadata": {
    "id": "GGl2HVXbHYzn"
   },
   "source": [
    "Define equiprobable actions [left, up, right, down]"
   ]
  },
  {
   "cell_type": "code",
   "execution_count": 2,
   "metadata": {
    "id": "LDeviPzjHfa4"
   },
   "outputs": [],
   "source": [
    "WORLD_SIZE = 4\n",
    "# left, up, right, down\n",
    "ACTIONS = [np.array([0, -1]),\n",
    "           np.array([-1, 0]),\n",
    "           np.array([0, 1]),\n",
    "           np.array([1, 0])]\n",
    "ACTION_PROB = 0.25"
   ]
  },
  {
   "cell_type": "markdown",
   "metadata": {
    "id": "CRyZ2QEeJB3k"
   },
   "source": [
    "Terminal states are the top-left and bottom-right corners"
   ]
  },
  {
   "cell_type": "code",
   "execution_count": 3,
   "metadata": {
    "id": "1UXzA8QyH9nI"
   },
   "outputs": [],
   "source": [
    "def is_terminal(state):\n",
    "    x, y = state\n",
    "    return (x == 0 and y == 0) or (x == WORLD_SIZE - 1 and y == WORLD_SIZE - 1)"
   ]
  },
  {
   "cell_type": "markdown",
   "metadata": {
    "id": "U54G4uouJN7S"
   },
   "source": [
    "Define the step function"
   ]
  },
  {
   "cell_type": "code",
   "execution_count": 4,
   "metadata": {
    "id": "9-b0XhlrJVuq"
   },
   "outputs": [],
   "source": [
    "def step(state, action):\n",
    "    state = np.array(state)\n",
    "    next_state = (state + action).tolist()\n",
    "    x, y = next_state\n",
    "\n",
    "    if x < 0 or x >= WORLD_SIZE or y < 0 or y >= WORLD_SIZE:\n",
    "        next_state = state.tolist()\n",
    "\n",
    "    reward = -1\n",
    "    return next_state, reward"
   ]
  },
  {
   "cell_type": "markdown",
   "metadata": {
    "id": "pGE4vvwzKQ3z"
   },
   "source": [
    "We define a function that show the grid-world image"
   ]
  },
  {
   "cell_type": "code",
   "execution_count": 5,
   "metadata": {
    "id": "UFe6XPQWKxv2"
   },
   "outputs": [],
   "source": [
    "def draw_image(image):\n",
    "    fig, ax = plt.subplots()\n",
    "    ax.set_axis_off()\n",
    "    tb = Table(ax, bbox=[0, 0, 1, 1])\n",
    "\n",
    "    nrows, ncols = image.shape\n",
    "    width, height = 1.0 / ncols, 1.0 / nrows\n",
    "\n",
    "    # Add cells\n",
    "    for (i,j), val in np.ndenumerate(image):\n",
    "        # Index either the first or second item of bkg_colors based on\n",
    "        # a checker board pattern\n",
    "        idx = [j % 2, (j + 1) % 2][i % 2]\n",
    "        color = 'white'\n",
    "\n",
    "        tb.add_cell(i, j, width, height, text=val,\n",
    "                    loc='center', facecolor=color)\n",
    "\n",
    "    # Row Labels...\n",
    "    for i, label in enumerate(range(len(image))):\n",
    "        tb.add_cell(i, -1, width, height, text=label+1, loc='right',\n",
    "                    edgecolor='none', facecolor='none')\n",
    "    # Column Labels...\n",
    "    for j, label in enumerate(range(len(image))):\n",
    "        tb.add_cell(-1, j, width, height/2, text=label+1, loc='center',\n",
    "                           edgecolor='none', facecolor='none')\n",
    "    ax.add_table(tb)\n",
    "    plt.show()"
   ]
  },
  {
   "cell_type": "markdown",
   "metadata": {
    "id": "JDPDSeWDfvhM"
   },
   "source": [
    "We start with zero values"
   ]
  },
  {
   "cell_type": "code",
   "execution_count": 6,
   "metadata": {
    "colab": {
     "base_uri": "https://localhost:8080/",
     "height": 470
    },
    "executionInfo": {
     "elapsed": 4,
     "status": "ok",
     "timestamp": 1716317628376,
     "user": {
      "displayName": "Cesar Caiafa",
      "userId": "07160910981834058368"
     },
     "user_tz": 180
    },
    "id": "2qa4DieVhH90",
    "outputId": "9f8d5c3c-2219-40e8-8964-3af636b07550"
   },
   "outputs": [
    {
     "data": {
      "image/png": "[encoded data removed]",
      "text/plain": [
       "<Figure size 640x480 with 1 Axes>"
      ]
     },
     "metadata": {},
     "output_type": "display_data"
    },
    {
     "name": "stdout",
     "output_type": "stream",
     "text": [
      "Iteration= 0\n"
     ]
    }
   ],
   "source": [
    "state_values = np.zeros((WORLD_SIZE, WORLD_SIZE))\n",
    "iteration = 0\n",
    "draw_image(np.round(state_values, decimals=2))\n",
    "print(\"Iteration=\", iteration)\n"
   ]
  },
  {
   "cell_type": "markdown",
   "metadata": {
    "id": "gJXeronaLBgR"
   },
   "source": [
    "We define de function that update the values\n"
   ]
  },
  {
   "cell_type": "code",
   "execution_count": 7,
   "metadata": {
    "id": "8zCuNiLWatR4"
   },
   "outputs": [],
   "source": [
    "def update_state_value(state_values, in_place=False):\n",
    "    new_state_values = state_values.copy()\n",
    "    src = new_state_values if in_place else state_values\n",
    "    for i in range(WORLD_SIZE):\n",
    "        for j in range(WORLD_SIZE):\n",
    "            if is_terminal([i, j]):\n",
    "                continue\n",
    "            value = 0\n",
    "            for action in ACTIONS:\n",
    "                (next_i, next_j), reward = step([i, j], action)\n",
    "                value += ACTION_PROB * (reward + src[next_i, next_j])\n",
    "            new_state_values[i, j] = value\n",
    "\n",
    "    return new_state_values"
   ]
  },
  {
   "cell_type": "markdown",
   "metadata": {
    "id": "h4BYwrQwdQe6"
   },
   "source": [
    "Now, run policy evaluation iteration"
   ]
  },
  {
   "cell_type": "code",
   "execution_count": 33,
   "metadata": {
    "colab": {
     "base_uri": "https://localhost:8080/",
     "height": 470
    },
    "executionInfo": {
     "elapsed": 321,
     "status": "ok",
     "timestamp": 1716317666618,
     "user": {
      "displayName": "Cesar Caiafa",
      "userId": "07160910981834058368"
     },
     "user_tz": 180
    },
    "id": "aCkR1CYsdStY",
    "outputId": "4c309cce-83a6-460b-f8c4-53a9c36297ee"
   },
   "outputs": [
    {
     "name": "stdout",
     "output_type": "stream",
     "text": [
      "Iteration= 26\n"
     ]
    },
    {
     "data": {
      "image/png": "[encoded data removed]",
      "text/plain": [
       "<Figure size 640x480 with 1 Axes>"
      ]
     },
     "metadata": {},
     "output_type": "display_data"
    }
   ],
   "source": [
    "iteration += 1\n",
    "state_values = update_state_value(state_values, in_place=False)\n",
    "print(\"Iteration=\", iteration)\n",
    "draw_image(np.round(state_values, decimals=1))"
   ]
  }
 ],
 "metadata": {
  "colab": {
   "authorship_tag": "ABX9TyN5sDQThCwQZFqXq5Gs6o5G",
   "provenance": []
  },
  "kernelspec": {
   "display_name": ".venv",
   "language": "python",
   "name": "python3"
  },
  "language_info": {
   "codemirror_mode": {
    "name": "ipython",
    "version": 3
   },
   "file_extension": ".py",
   "mimetype": "text/x-python",
   "name": "python",
   "nbconvert_exporter": "python",
   "pygments_lexer": "ipython3",
   "version": "3.13.7"
  }
 },
 "nbformat": 4,
 "nbformat_minor": 0
}
